{
  "nbformat": 4,
  "nbformat_minor": 0,
  "metadata": {
    "colab": {
      "name": "RNN_Simple.ipynb",
      "version": "0.3.2",
      "provenance": [],
      "collapsed_sections": [],
      "include_colab_link": true
    },
    "kernelspec": {
      "name": "python3",
      "display_name": "Python 3"
    },
    "accelerator": "GPU"
  },
  "cells": [
    {
      "cell_type": "markdown",
      "metadata": {
        "id": "view-in-github",
        "colab_type": "text"
      },
      "source": [
        "<a href=\"https://colab.research.google.com/github/rjromo/Transferencia-de-Estilo/blob/master/RNN_Simple.ipynb\" target=\"_parent\"><img src=\"https://colab.research.google.com/assets/colab-badge.svg\" alt=\"Open In Colab\"/></a>"
      ]
    },
    {
      "cell_type": "markdown",
      "metadata": {
        "id": "Tu3ON_HPYFQT",
        "colab_type": "text"
      },
      "source": [
        "# Simple RNN\n",
        "\n",
        "En este notebook vamos a entrenar una redes neuronal recurrente de forma simple. Dado un set como datos iniciales seremos capaces de generar una predicción para el siguiente paso.\n",
        "\n",
        "<img src='https://github.com/udacity/deep-learning-v2-pytorch/blob/master/recurrent-neural-networks/time-series/assets/time_prediction.png?raw=1' width=40% />\n",
        "\n",
        "> * Primero creamos nuestros datos\n",
        "* Luego definimos una red usando Pytorch\n",
        "* Finalmente entrenamos nuestra red y vemos como se desarrolla."
      ]
    },
    {
      "cell_type": "markdown",
      "metadata": {
        "id": "UbReOgbhYFQh",
        "colab_type": "text"
      },
      "source": [
        "### Importamos recursos y creamos los datos"
      ]
    },
    {
      "cell_type": "code",
      "metadata": {
        "id": "qOEq-JSAYFQl",
        "colab_type": "code",
        "colab": {}
      },
      "source": [
        "import torch\n",
        "from torch import nn\n",
        "import numpy as np\n",
        "import matplotlib.pyplot as plt\n",
        "%matplotlib inline"
      ],
      "execution_count": 0,
      "outputs": []
    },
    {
      "cell_type": "code",
      "metadata": {
        "id": "W7fWAdE4YFQ1",
        "colab_type": "code",
        "colab": {
          "base_uri": "https://localhost:8080/",
          "height": 323
        },
        "outputId": "93db6790-6012-443d-a94e-c11852c82250"
      },
      "source": [
        "plt.figure(figsize=(8,5))\n",
        "\n",
        "# cuantos pasos/puntos de datos están en un batch de datos\n",
        "seq_length = 25\n",
        "\n",
        "# generamos puntos espaciados\n",
        "time_steps = np.linspace(0, np.pi, seq_length + 1)\n",
        "data = np.sin(time_steps)\n",
        "data.resize((seq_length + 1, 1)) # el tamaño es (seq_length+1, 1), se añada una dimensión input_size\n",
        "\n",
        "x = data[:-1] # Todo menos el último dato\n",
        "y = data[1:] # Todo menos el primer\n",
        "\n",
        "# graficamos los datos\n",
        "plt.plot(time_steps[1:], x, 'r.', label='input, x') # x\n",
        "plt.plot(time_steps[1:], y, 'b.', label='target, y') # y\n",
        "\n",
        "plt.legend(loc='best')\n",
        "plt.show()"
      ],
      "execution_count": 8,
      "outputs": [
        {
          "output_type": "display_data",
          "data": {
            "image/png": "[encoded data removed]",
            "text/plain": [
              "<Figure size 576x360 with 1 Axes>"
            ]
          },
          "metadata": {
            "tags": []
          }
        }
      ]
    },
    {
      "cell_type": "markdown",
      "metadata": {
        "id": "e0F0Pd93YFRE",
        "colab_type": "text"
      },
      "source": [
        "---\n",
        "## Definiendo la RNN\n",
        "\n",
        "Usaremos la librería  PyTorch `nn.RNN` para crear una capa RNN, luego por último añadiremos una capa completamente conectada para obtener el tamaño de salida que queremos. Una RNN toma los siguientes parametros:\n",
        "* **input_size** - el tamaño de los valores de entrada\n",
        "* **hidden_dim** - el número de features en la salida de la RNN y en los estados ocultos\n",
        "* **n_layers** - el número de capas que hacen la RNN, tipicamente 1-3.\n",
        "* **batch_first** - Si la entrada o salida de la RNN tendrá el tamaño del batch como primera dimensión. (batch_size, seq_length, hidden_dim)\n",
        "\n",
        "Puedes ver más en [RNN documentation](https://pytorch.org/docs/stable/nn.html#rnn) "
      ]
    },
    {
      "cell_type": "code",
      "metadata": {
        "id": "MbEKkiunYFRI",
        "colab_type": "code",
        "colab": {}
      },
      "source": [
        "class RNN(nn.Module):\n",
        "    def __init__(self, input_size, output_size, hidden_dim, n_layers):\n",
        "        super(RNN, self).__init__()\n",
        "        \n",
        "        self.hidden_dim=hidden_dim\n",
        "\n",
        "        # define una RNN con los parámetros específicos\n",
        "        # batch_first significa que la primera dimensión de la entrada y salida será el tamaño del batch\n",
        "        self.rnn = nn.RNN(input_size, hidden_dim, n_layers, batch_first=True)\n",
        "        \n",
        "        # una capa completamente conectada \"fully connected layer\"\n",
        "        self.fc = nn.Linear(hidden_dim, output_size)\n",
        "\n",
        "    def forward(self, x, hidden):\n",
        "        # x (batch_size, seq_length, input_size)\n",
        "        # hidden (n_layers, batch_size, hidden_dim)\n",
        "        # r_out (batch_size, time_step, hidden_size)\n",
        "        batch_size = x.size(0)\n",
        "        \n",
        "        # obtiene las salidas de la RNN\n",
        "        r_out, hidden = self.rnn(x, hidden)\n",
        "        # le da forma a la salida(batch_size*seq_length, hidden_dim)\n",
        "        r_out = r_out.view(-1, self.hidden_dim)  \n",
        "        \n",
        "        # obtiene la salida final \n",
        "        output = self.fc(r_out)\n",
        "        \n",
        "        return output, hidden\n"
      ],
      "execution_count": 0,
      "outputs": []
    },
    {
      "cell_type": "markdown",
      "metadata": {
        "id": "a7bWpAWhYFRU",
        "colab_type": "text"
      },
      "source": [
        "### Revisar las dimensiones de entrada y salida\n",
        "\n",
        "Para verificar que el modelo está trabajando según lo esperado."
      ]
    },
    {
      "cell_type": "code",
      "metadata": {
        "id": "sEW2zIIXYFRW",
        "colab_type": "code",
        "colab": {
          "base_uri": "https://localhost:8080/",
          "height": 72
        },
        "outputId": "f6e373ff-69c7-4df6-c166-60449dd0a125"
      },
      "source": [
        "# verifica que las dimensiones son las deseadas\n",
        "test_rnn = RNN(input_size=1, output_size=1, hidden_dim=10, n_layers=2)\n",
        "\n",
        "# generar puntos \n",
        "time_steps = np.linspace(0, np.pi, seq_length)\n",
        "data = np.sin(time_steps)\n",
        "data.resize((seq_length, 1))\n",
        "\n",
        "test_input = torch.Tensor(data).unsqueeze(0) # darle un tamaño de batch de 1 como primera dimensión.\n",
        "print('Input size: ', test_input.size())\n",
        "\n",
        "# test out rnn sizes\n",
        "test_out, test_h = test_rnn(test_input, None)\n",
        "print('Output size: ', test_out.size())\n",
        "print('Hidden state size: ', test_h.size())"
      ],
      "execution_count": 24,
      "outputs": [
        {
          "output_type": "stream",
          "text": [
            "Input size:  torch.Size([1, 25, 1])\n",
            "Output size:  torch.Size([25, 1])\n",
            "Hidden state size:  torch.Size([2, 1, 10])\n"
          ],
          "name": "stdout"
        }
      ]
    },
    {
      "cell_type": "markdown",
      "metadata": {
        "id": "befY2CXhYFRl",
        "colab_type": "text"
      },
      "source": [
        "---\n",
        "## Entrenando la RNN\n",
        "\n",
        "Iniciaremos la RNN con hiperparámetros especificados. Luego la entrenaremos en una serie de pasos para ver como se desarrolla."
      ]
    },
    {
      "cell_type": "code",
      "metadata": {
        "id": "sd4h_ZboYFRp",
        "colab_type": "code",
        "colab": {
          "base_uri": "https://localhost:8080/",
          "height": 90
        },
        "outputId": "988fcec5-0ca7-4992-f6a7-7d9f69b59ce0"
      },
      "source": [
        "# hiperparámetros\n",
        "input_size=1 \n",
        "output_size=1\n",
        "hidden_dim=32\n",
        "n_layers=1\n",
        "\n",
        "# iniciando la RNN\n",
        "rnn = RNN(input_size, output_size, hidden_dim, n_layers)\n",
        "print(rnn)"
      ],
      "execution_count": 25,
      "outputs": [
        {
          "output_type": "stream",
          "text": [
            "RNN(\n",
            "  (rnn): RNN(1, 32, batch_first=True)\n",
            "  (fc): Linear(in_features=32, out_features=1, bias=True)\n",
            ")\n"
          ],
          "name": "stdout"
        }
      ]
    },
    {
      "cell_type": "markdown",
      "metadata": {
        "id": "VAEYvlNdYFRz",
        "colab_type": "text"
      },
      "source": [
        "### Perdida y Optimización\n",
        "\n",
        "Este es un problema de regresión.\n",
        "\n",
        ">*  Los puntos son coordenadas así que usaremos el error cuadrático medio\n",
        "* Usamos optimizadores ADAM"
      ]
    },
    {
      "cell_type": "code",
      "metadata": {
        "id": "P_dnLEsYYFR7",
        "colab_type": "code",
        "colab": {}
      },
      "source": [
        "# taza de aprendizaje 0.01\n",
        "criterion = nn.MSELoss()\n",
        "optimizer = torch.optim.Adam(rnn.parameters(), lr=0.01) "
      ],
      "execution_count": 0,
      "outputs": []
    },
    {
      "cell_type": "markdown",
      "metadata": {
        "id": "ACOI_kIkYFSK",
        "colab_type": "text"
      },
      "source": [
        "### Definiendo la función de entrenamiento.\n",
        "\n",
        "Esta función toma una RNN, un número de pasos para entrenar y retorna una red entrenada.\n",
        "\n",
        "#### Estados ocultos\n",
        "\n",
        "Preste mucha atención en los estados ocultos:\n",
        "* Al principio un estado oculto es generado\n",
        "* Luego de este estado obtenemos uno nuevo que se usará recurrentemente."
      ]
    },
    {
      "cell_type": "code",
      "metadata": {
        "id": "kskuVViIYFSS",
        "colab_type": "code",
        "colab": {}
      },
      "source": [
        "# entrena la RNN\n",
        "def train(rnn, n_steps, print_every):\n",
        "    \n",
        "    # inicializa el estado oculto\n",
        "    hidden = None      \n",
        "    \n",
        "    for batch_i, step in enumerate(range(n_steps)):\n",
        "        # definiendo los datos de entrenamiento\n",
        "        time_steps = np.linspace(step * np.pi, (step+1)*np.pi, seq_length + 1)\n",
        "        data = np.sin(time_steps)\n",
        "        data.resize((seq_length + 1, 1)) # input_size=1\n",
        "\n",
        "        x = data[:-1]\n",
        "        y = data[1:]\n",
        "        \n",
        "        # convirtiendo los datos en Tensores\n",
        "        x_tensor = torch.Tensor(x).unsqueeze(0) # unsqueeze da 1 como dimensión del tamaño del batch\n",
        "        y_tensor = torch.Tensor(y)\n",
        "\n",
        "        # salidas de la rnn\n",
        "        prediction, hidden = rnn(x_tensor, hidden)\n",
        "\n",
        "        \n",
        "        hidden = hidden.data\n",
        "\n",
        "        # calculando la pérdida\n",
        "        loss = criterion(prediction, y_tensor)\n",
        "        # reiniciando los gradientes\n",
        "        optimizer.zero_grad()\n",
        "        # backpropagation\n",
        "        loss.backward()\n",
        "        optimizer.step()\n",
        "\n",
        "        # visualización de pérdida\n",
        "        if batch_i%print_every == 0:        \n",
        "            print('Loss: ', loss.item())\n",
        "            plt.plot(time_steps[1:], x, 'r.') # input\n",
        "            plt.plot(time_steps[1:], prediction.data.numpy().flatten(), 'b.') # predictions\n",
        "            plt.show()\n",
        "    \n",
        "    return rnn\n"
      ],
      "execution_count": 0,
      "outputs": []
    },
    {
      "cell_type": "code",
      "metadata": {
        "id": "pDTdDtnuYFSc",
        "colab_type": "code",
        "colab": {
          "base_uri": "https://localhost:8080/",
          "height": 1369
        },
        "outputId": "8795efbe-ccef-4b32-e8d3-bb18a11a3b75"
      },
      "source": [
        "# entrena la red y muestra los resultados\n",
        "n_steps = 75\n",
        "print_every = 15\n",
        "\n",
        "trained_rnn = train(rnn, n_steps, print_every)"
      ],
      "execution_count": 20,
      "outputs": [
        {
          "output_type": "stream",
          "text": [
            "Loss:  0.5326623916625977\n"
          ],
          "name": "stdout"
        },
        {
          "output_type": "display_data",
          "data": {
            "image/png": "[encoded data removed]",
            "text/plain": [
              "<Figure size 432x288 with 1 Axes>"
            ]
          },
          "metadata": {
            "tags": []
          }
        },
        {
          "output_type": "stream",
          "text": [
            "Loss:  0.05750281363725662\n"
          ],
          "name": "stdout"
        },
        {
          "output_type": "display_data",
          "data": {
            "image/png": "[encoded data removed]",
            "text/plain": [
              "<Figure size 432x288 with 1 Axes>"
            ]
          },
          "metadata": {
            "tags": []
          }
        },
        {
          "output_type": "stream",
          "text": [
            "Loss:  0.0024190775584429502\n"
          ],
          "name": "stdout"
        },
        {
          "output_type": "display_data",
          "data": {
            "image/png": "[encoded data removed]",
            "text/plain": [
              "<Figure size 432x288 with 1 Axes>"
            ]
          },
          "metadata": {
            "tags": []
          }
        },
        {
          "output_type": "stream",
          "text": [
            "Loss:  0.010078910738229752\n"
          ],
          "name": "stdout"
        },
        {
          "output_type": "display_data",
          "data": {
            "image/png": "[encoded data removed]",
            "text/plain": [
              "<Figure size 432x288 with 1 Axes>"
            ]
          },
          "metadata": {
            "tags": []
          }
        },
        {
          "output_type": "stream",
          "text": [
            "Loss:  0.005852646194398403\n"
          ],
          "name": "stdout"
        },
        {
          "output_type": "display_data",
          "data": {
            "image/png": "[encoded data removed]",
            "text/plain": [
              "<Figure size 432x288 with 1 Axes>"
            ]
          },
          "metadata": {
            "tags": []
          }
        }
      ]
    },
    {
      "cell_type": "markdown",
      "metadata": {
        "id": "a1axV5spYFSo",
        "colab_type": "text"
      },
      "source": [
        ""
      ]
    },
    {
      "cell_type": "code",
      "metadata": {
        "id": "PqRn474aYFSr",
        "colab_type": "code",
        "colab": {}
      },
      "source": [
        ""
      ],
      "execution_count": 0,
      "outputs": []
    }
  ]
}